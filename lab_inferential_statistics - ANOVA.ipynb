{
 "cells": [
  {
   "cell_type": "markdown",
   "metadata": {},
   "source": [
    "Part 1\n",
    "In this activity, we will look at another example. Your task is to understand the problem and write down all the steps to set up ANOVA. After the next lesson, we will ask you to solve this problem using Python. Here are the steps that you would need to work on: - Null hypothesis - Alternate hypothesis - Level of significance - Test statistic - P-value - F table\n",
    "\n",
    "Context\n",
    "Suppose you are working as an analyst in a microprocessor chip manufacturing plant. You have been given the task of analyzing a plasma etching process with respect to changing Power (in Watts) of the plasma beam. Data was collected and provided to you to conduct statistical analysis and check if changing the power of the plasma beam has any effect on the etching rate by the machine. You will conduct ANOVA and check if there is any difference in the mean etching rate for different levels of power. You can find the data anova_lab_data.xlsx file in the files_for_lab folder\n",
    "\n",
    "State the null hypothesis\n",
    "State the alternate hypothesis\n",
    "What is the significance level\n",
    "What are the degrees of freedom of model, error terms, and total DoF\n",
    "Data was collected randomly and provided to you in the table as shown: link to the image - Data"
   ]
  },
  {
   "cell_type": "markdown",
   "metadata": {},
   "source": [
    "1- null hypothesis: Groups means are equal (no variation in means of groups) ----> µ_160 = µ_180 = µ_200\n",
    "2- State the alternate hypothesis--> H1: All μ are not equal\n",
    "3-What is the significance level ---> alpha = 0.05"
   ]
  },
  {
   "cell_type": "code",
   "execution_count": 15,
   "metadata": {},
   "outputs": [
    {
     "data": {
      "text/plain": [
       "[[5.43, 6.24, 8.79],\n",
       " [5.71, 6.71, 9.2],\n",
       " [6.22, 5.98, 7.9],\n",
       " [6.01, 5.66, 8.15],\n",
       " [5.59, 6.6, 7.55]]"
      ]
     },
     "execution_count": 15,
     "metadata": {},
     "output_type": "execute_result"
    }
   ],
   "source": [
    "#4- What are the degrees of freedom of model, error terms, and total DoF\n",
    "etching_rate=[[5.43, 6.24, 8.79],\n",
    "                  [5.71, 6.71, 9.2],\n",
    "                  [6.22, 5.98, 7.9],\n",
    "                  [6.01, 5.66, 8.15],\n",
    "                  [5.59, 6.6, 7.55]]\n",
    "etching_rate"
   ]
  },
  {
   "cell_type": "code",
   "execution_count": 16,
   "metadata": {},
   "outputs": [
    {
     "data": {
      "text/html": [
       "<div>\n",
       "<style scoped>\n",
       "    .dataframe tbody tr th:only-of-type {\n",
       "        vertical-align: middle;\n",
       "    }\n",
       "\n",
       "    .dataframe tbody tr th {\n",
       "        vertical-align: top;\n",
       "    }\n",
       "\n",
       "    .dataframe thead th {\n",
       "        text-align: right;\n",
       "    }\n",
       "</style>\n",
       "<table border=\"1\" class=\"dataframe\">\n",
       "  <thead>\n",
       "    <tr style=\"text-align: right;\">\n",
       "      <th></th>\n",
       "      <th>160 W</th>\n",
       "      <th>180 W</th>\n",
       "      <th>200 W</th>\n",
       "    </tr>\n",
       "  </thead>\n",
       "  <tbody>\n",
       "    <tr>\n",
       "      <th>0</th>\n",
       "      <td>5.43</td>\n",
       "      <td>6.24</td>\n",
       "      <td>8.79</td>\n",
       "    </tr>\n",
       "    <tr>\n",
       "      <th>1</th>\n",
       "      <td>5.71</td>\n",
       "      <td>6.71</td>\n",
       "      <td>9.20</td>\n",
       "    </tr>\n",
       "    <tr>\n",
       "      <th>2</th>\n",
       "      <td>6.22</td>\n",
       "      <td>5.98</td>\n",
       "      <td>7.90</td>\n",
       "    </tr>\n",
       "    <tr>\n",
       "      <th>3</th>\n",
       "      <td>6.01</td>\n",
       "      <td>5.66</td>\n",
       "      <td>8.15</td>\n",
       "    </tr>\n",
       "    <tr>\n",
       "      <th>4</th>\n",
       "      <td>5.59</td>\n",
       "      <td>6.60</td>\n",
       "      <td>7.55</td>\n",
       "    </tr>\n",
       "  </tbody>\n",
       "</table>\n",
       "</div>"
      ],
      "text/plain": [
       "   160 W  180 W  200 W\n",
       "0   5.43   6.24   8.79\n",
       "1   5.71   6.71   9.20\n",
       "2   6.22   5.98   7.90\n",
       "3   6.01   5.66   8.15\n",
       "4   5.59   6.60   7.55"
      ]
     },
     "execution_count": 16,
     "metadata": {},
     "output_type": "execute_result"
    }
   ],
   "source": [
    "import pandas as pd\n",
    "df = pd.DataFrame(etching_rate)\n",
    "df.columns  = ['160 W', '180 W', '200 W']\n",
    "#df_melt = pd.melt(df.reset_index(), id_vars=['index'], value_vars=['160 W', '180 W', '200 W'])\n",
    "#df_melts\n",
    "df"
   ]
  },
  {
   "cell_type": "code",
   "execution_count": 18,
   "metadata": {},
   "outputs": [],
   "source": [
    "# reshape the d dataframe suitable for statsmodels package \n",
    "df_melt = pd.melt(df.reset_index(), id_vars=['index'], value_vars=['160 W', '180 W', '200 W'])\n",
    "# replace column names\n",
    "df_melt.columns = ['index', 'power', 'etching_rate']"
   ]
  },
  {
   "cell_type": "code",
   "execution_count": 19,
   "metadata": {},
   "outputs": [
    {
     "data": {
      "image/png": "[encoded data removed]",
      "text/plain": [
       "<Figure size 432x288 with 1 Axes>"
      ]
     },
     "metadata": {
      "needs_background": "light"
     },
     "output_type": "display_data"
    }
   ],
   "source": [
    "# generate a boxplot to see the data distribution by treatments. Using boxplot, we can \n",
    "# easily detect the differences between different treatments\n",
    "import matplotlib.pyplot as plt\n",
    "import seaborn as sns\n",
    "ax = sns.boxplot(x='power', y='etching_rate', data=df_melt, color='#99c2a2')\n",
    "ax = sns.swarmplot(x=\"power\", y=\"etching_rate\", data=df_melt, color='#7d0013')\n",
    "plt.show()"
   ]
  },
  {
   "cell_type": "code",
   "execution_count": 21,
   "metadata": {},
   "outputs": [
    {
     "name": "stdout",
     "output_type": "stream",
     "text": [
      "F statistic is:  36.87895470100505 and the p-valueis : 7.506584272358903e-06\n"
     ]
    }
   ],
   "source": [
    "import scipy.stats as stats\n",
    "# stats f_oneway functions takes the groups as input and returns ANOVA F and p value\n",
    "fvalue, pvalue = stats.f_oneway(df['160 W'], df['180 W'], df['200 W'])\n",
    "print('F statistic is: ',fvalue, 'and the p-valueis :',pvalue, )"
   ]
  },
  {
   "cell_type": "code",
   "execution_count": 20,
   "metadata": {},
   "outputs": [
    {
     "data": {
      "text/html": [
       "<div>\n",
       "<style scoped>\n",
       "    .dataframe tbody tr th:only-of-type {\n",
       "        vertical-align: middle;\n",
       "    }\n",
       "\n",
       "    .dataframe tbody tr th {\n",
       "        vertical-align: top;\n",
       "    }\n",
       "\n",
       "    .dataframe thead th {\n",
       "        text-align: right;\n",
       "    }\n",
       "</style>\n",
       "<table border=\"1\" class=\"dataframe\">\n",
       "  <thead>\n",
       "    <tr style=\"text-align: right;\">\n",
       "      <th></th>\n",
       "      <th>sum_sq</th>\n",
       "      <th>df</th>\n",
       "      <th>F</th>\n",
       "      <th>PR(&gt;F)</th>\n",
       "    </tr>\n",
       "  </thead>\n",
       "  <tbody>\n",
       "    <tr>\n",
       "      <th>C(power)</th>\n",
       "      <td>18.176653</td>\n",
       "      <td>2.0</td>\n",
       "      <td>36.878955</td>\n",
       "      <td>0.000008</td>\n",
       "    </tr>\n",
       "    <tr>\n",
       "      <th>Residual</th>\n",
       "      <td>2.957240</td>\n",
       "      <td>12.0</td>\n",
       "      <td>NaN</td>\n",
       "      <td>NaN</td>\n",
       "    </tr>\n",
       "  </tbody>\n",
       "</table>\n",
       "</div>"
      ],
      "text/plain": [
       "             sum_sq    df          F    PR(>F)\n",
       "C(power)  18.176653   2.0  36.878955  0.000008\n",
       "Residual   2.957240  12.0        NaN       NaN"
      ]
     },
     "execution_count": 20,
     "metadata": {},
     "output_type": "execute_result"
    }
   ],
   "source": [
    "# part 2: In this section, use Python to conduct ANOVA.\n",
    "# get ANOVA table as R like output\n",
    "import statsmodels.api as sm\n",
    "from statsmodels.formula.api import ols\n",
    "\n",
    "# Ordinary Least Squares (OLS) model\n",
    "model = ols('etching_rate ~ C(power)', data=df_melt).fit()\n",
    "anova_table = sm.stats.anova_lm(model, typ=2)\n",
    "anova_table"
   ]
  },
  {
   "cell_type": "code",
   "execution_count": null,
   "metadata": {},
   "outputs": [],
   "source": [
    "# What conclusions can you draw from the experiment and why?\n",
    "0.000008 < 0.05 ---> p_value < alpha ---> H0 is false and rejected, and H1 is true ---> All μ are not equal"
   ]
  }
 ],
 "metadata": {
  "kernelspec": {
   "display_name": "Python 3",
   "language": "python",
   "name": "python3"
  },
  "language_info": {
   "codemirror_mode": {
    "name": "ipython",
    "version": 3
   },
   "file_extension": ".py",
   "mimetype": "text/x-python",
   "name": "python",
   "nbconvert_exporter": "python",
   "pygments_lexer": "ipython3",
   "version": "3.8.3"
  }
 },
 "nbformat": 4,
 "nbformat_minor": 4
}
